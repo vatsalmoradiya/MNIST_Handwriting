{
  "nbformat": 4,
  "nbformat_minor": 0,
  "metadata": {
    "colab": {
      "name": "MNIST Handwriting.ipynb",
      "provenance": [],
      "collapsed_sections": []
    },
    "kernelspec": {
      "name": "python3",
      "display_name": "Python 3"
    },
    "language_info": {
      "name": "python"
    },
    "accelerator": "GPU"
  },
  "cells": [
    {
      "cell_type": "code",
      "execution_count": 12,
      "metadata": {
        "id": "C-HuVjDbfUfJ"
      },
      "outputs": [],
      "source": [
        "from numpy import mean\n",
        "from numpy import std\n",
        "from matplotlib import pyplot as plt\n",
        "from sklearn.model_selection import KFold\n",
        "from tensorflow.keras.datasets import mnist\n",
        "from tensorflow.keras.utils import to_categorical\n",
        "from tensorflow.keras.models import Sequential\n",
        "from tensorflow.keras.layers import Conv2D\n",
        "from tensorflow.keras.layers import MaxPooling2D\n",
        "from tensorflow.keras.layers import Dense\n",
        "from tensorflow.keras.layers import Flatten\n",
        "from tensorflow.keras.optimizers import SGD\n",
        "from tensorflow.keras.layers import BatchNormalization"
      ]
    },
    {
      "cell_type": "markdown",
      "source": [
        "# Load Dataset"
      ],
      "metadata": {
        "id": "W4_tAYJMgo7j"
      }
    },
    {
      "cell_type": "code",
      "source": [
        "(trainX, trainY), (testX, testY) = mnist.load_data()\n",
        "trainX = trainX.reshape((trainX.shape[0],28,28,1))\n",
        "testX = testX.reshape((testX.shape[0],28,28,1))\n",
        "trainY = to_categorical(trainY)\n",
        "testY = to_categorical(testY)"
      ],
      "metadata": {
        "id": "6AV3ZAzlgq6X"
      },
      "execution_count": 2,
      "outputs": []
    },
    {
      "cell_type": "markdown",
      "source": [
        "# Create Pixel Data of Images"
      ],
      "metadata": {
        "id": "_oUYGdCBg0Fs"
      }
    },
    {
      "cell_type": "code",
      "source": [
        "trainX = trainX.astype(\"float32\")\n",
        "testX = testX.astype(\"float32\")\n",
        "trainX = trainX/255.0\n",
        "testX = testX/255.0"
      ],
      "metadata": {
        "id": "Ubr3Qa56gzJ5"
      },
      "execution_count": 3,
      "outputs": []
    },
    {
      "cell_type": "markdown",
      "source": [
        "# Defining First Model"
      ],
      "metadata": {
        "id": "KjY0mheRhP5B"
      }
    },
    {
      "cell_type": "code",
      "source": [
        "def define_model_base():\n",
        "    model = Sequential()\n",
        "    model.add(Conv2D(32, (3, 3), activation='relu', kernel_initializer='he_uniform', input_shape=(28, 28, 1)))\n",
        "    model.add(MaxPooling2D((2, 2)))\n",
        "    model.add(Flatten())\n",
        "    model.add(Dense(100, activation='relu', kernel_initializer='he_uniform'))\n",
        "    model.add(Dense(10, activation='softmax'))\n",
        "    # compile model\n",
        "    opt = SGD(learning_rate=0.01, momentum=0.9)\n",
        "    model.compile(optimizer=opt, loss='categorical_crossentropy', metrics=['accuracy'])\n",
        "    return model"
      ],
      "metadata": {
        "id": "CCVKeWJMPITF"
      },
      "execution_count": 4,
      "outputs": []
    },
    {
      "cell_type": "markdown",
      "source": [
        "# Train and Evaluate the model"
      ],
      "metadata": {
        "id": "TIWMTJzghd6F"
      }
    },
    {
      "cell_type": "code",
      "source": [
        "def train_evaluate_model(dataX, dataY, define_model, n_folds = 5):\n",
        "    scores, histories = list(),list()\n",
        "    kfold = KFold(n_folds, shuffle=True, random_state=1)\n",
        "    for i, (train_ix, test_ix) in enumerate(kfold.split(dataX)):\n",
        "        print(\"\\n#Iteration \", i+1, end=\"\\n\\n\")\n",
        "        model = define_model()\n",
        "        trainX, trainY, testX, testY = dataX[train_ix], dataY[train_ix], dataX[test_ix], dataY[test_ix]\n",
        "        history = model.fit(trainX, trainY, epochs=10, batch_size=32, validation_data=(testX,testY))\n",
        "        _, acc = model.evaluate(testX,testY)\n",
        "        print(\"\\n> %.3f\" % (acc * 100.0))\n",
        "        scores.append(acc)\n",
        "        histories.append(history)\n",
        "    return scores,histories"
      ],
      "metadata": {
        "id": "a9FQi3nhPR0X"
      },
      "execution_count": 5,
      "outputs": []
    },
    {
      "cell_type": "markdown",
      "source": [
        "# Performance Visualization and Summarization"
      ],
      "metadata": {
        "id": "mweklD8JiBpb"
      }
    },
    {
      "cell_type": "code",
      "source": [
        "def performance_visualization(histories):\n",
        "    for i in range(len(histories)):\n",
        "        plt.subplot(2, 1, 1)\n",
        "        plt.title(\"Cross Entropy Loss\")\n",
        "        plt.plot(histories[i].history['loss'],color='blue',label='train')\n",
        "        plt.plot(histories[i].history['val_loss'], color='orange',label='test')\n",
        "        plt.subplot(2, 1, 2)\n",
        "        plt.title('Accuracy')\n",
        "        plt.plot(histories[i].history['accuracy'],color='blue',label='train')\n",
        "        plt.plot(histories[i].history['val_accuracy'], color='orange',label='test')\n",
        "    plt.show()"
      ],
      "metadata": {
        "id": "jGjppXuAiDv2"
      },
      "execution_count": 6,
      "outputs": []
    },
    {
      "cell_type": "code",
      "source": [
        "def performance_summarization(scores):\n",
        "    print('Accuracy: mean=%.3f std=%.3f, n=%d' % (mean(scores)*100, std(scores)*100, len(scores)))\n",
        "    plt.boxplot(scores)\n",
        "    plt.show()"
      ],
      "metadata": {
        "id": "RcEzFtztP9VT"
      },
      "execution_count": 7,
      "outputs": []
    },
    {
      "cell_type": "markdown",
      "source": [
        "# Train First Model and Analyse it"
      ],
      "metadata": {
        "id": "tC1p_YPHQH7S"
      }
    },
    {
      "cell_type": "code",
      "source": [
        "scores_base, histories_base = train_evaluate_model(trainX,trainY, define_model_base)"
      ],
      "metadata": {
        "colab": {
          "base_uri": "https://localhost:8080/"
        },
        "id": "6ReppJTGQHSx",
        "outputId": "c2ef6018-cf69-4e68-e0ea-3ca3f1d0b583"
      },
      "execution_count": 8,
      "outputs": [
        {
          "output_type": "stream",
          "name": "stdout",
          "text": [
            "\n",
            "#Iteration  1\n",
            "\n",
            "Epoch 1/10\n",
            "1500/1500 [==============================] - 10s 5ms/step - loss: 0.1807 - accuracy: 0.9442 - val_loss: 0.0915 - val_accuracy: 0.9718\n",
            "Epoch 2/10\n",
            "1500/1500 [==============================] - 8s 6ms/step - loss: 0.0603 - accuracy: 0.9822 - val_loss: 0.0654 - val_accuracy: 0.9815\n",
            "Epoch 3/10\n",
            "1500/1500 [==============================] - 8s 6ms/step - loss: 0.0384 - accuracy: 0.9881 - val_loss: 0.0613 - val_accuracy: 0.9808\n",
            "Epoch 4/10\n",
            "1500/1500 [==============================] - 8s 6ms/step - loss: 0.0254 - accuracy: 0.9926 - val_loss: 0.0649 - val_accuracy: 0.9818\n",
            "Epoch 5/10\n",
            "1500/1500 [==============================] - 8s 5ms/step - loss: 0.0179 - accuracy: 0.9947 - val_loss: 0.0607 - val_accuracy: 0.9827\n",
            "Epoch 6/10\n",
            "1500/1500 [==============================] - 8s 6ms/step - loss: 0.0120 - accuracy: 0.9967 - val_loss: 0.0525 - val_accuracy: 0.9862\n",
            "Epoch 7/10\n",
            "1500/1500 [==============================] - 10s 6ms/step - loss: 0.0082 - accuracy: 0.9980 - val_loss: 0.0555 - val_accuracy: 0.9857\n",
            "Epoch 8/10\n",
            "1500/1500 [==============================] - 8s 5ms/step - loss: 0.0047 - accuracy: 0.9991 - val_loss: 0.0603 - val_accuracy: 0.9853\n",
            "Epoch 9/10\n",
            "1500/1500 [==============================] - 8s 5ms/step - loss: 0.0035 - accuracy: 0.9995 - val_loss: 0.0566 - val_accuracy: 0.9864\n",
            "Epoch 10/10\n",
            "1500/1500 [==============================] - 8s 5ms/step - loss: 0.0021 - accuracy: 0.9998 - val_loss: 0.0583 - val_accuracy: 0.9858\n",
            "375/375 [==============================] - 1s 3ms/step - loss: 0.0583 - accuracy: 0.9858\n",
            "\n",
            "> 98.575\n",
            "\n",
            "#Iteration  2\n",
            "\n",
            "Epoch 1/10\n",
            "1500/1500 [==============================] - 8s 5ms/step - loss: 0.1911 - accuracy: 0.9413 - val_loss: 0.0971 - val_accuracy: 0.9713\n",
            "Epoch 2/10\n",
            "1500/1500 [==============================] - 8s 5ms/step - loss: 0.0650 - accuracy: 0.9805 - val_loss: 0.0675 - val_accuracy: 0.9795\n",
            "Epoch 3/10\n",
            "1500/1500 [==============================] - 8s 5ms/step - loss: 0.0406 - accuracy: 0.9877 - val_loss: 0.0590 - val_accuracy: 0.9822\n",
            "Epoch 4/10\n",
            "1500/1500 [==============================] - 8s 5ms/step - loss: 0.0274 - accuracy: 0.9915 - val_loss: 0.0531 - val_accuracy: 0.9842\n",
            "Epoch 5/10\n",
            "1500/1500 [==============================] - 8s 5ms/step - loss: 0.0192 - accuracy: 0.9945 - val_loss: 0.0528 - val_accuracy: 0.9841\n",
            "Epoch 6/10\n",
            "1500/1500 [==============================] - 8s 5ms/step - loss: 0.0135 - accuracy: 0.9962 - val_loss: 0.0534 - val_accuracy: 0.9860\n",
            "Epoch 7/10\n",
            "1500/1500 [==============================] - 8s 5ms/step - loss: 0.0089 - accuracy: 0.9979 - val_loss: 0.0519 - val_accuracy: 0.9862\n",
            "Epoch 8/10\n",
            "1500/1500 [==============================] - 8s 5ms/step - loss: 0.0059 - accuracy: 0.9989 - val_loss: 0.0526 - val_accuracy: 0.9861\n",
            "Epoch 9/10\n",
            "1500/1500 [==============================] - 8s 5ms/step - loss: 0.0040 - accuracy: 0.9993 - val_loss: 0.0494 - val_accuracy: 0.9868\n",
            "Epoch 10/10\n",
            "1500/1500 [==============================] - 8s 5ms/step - loss: 0.0028 - accuracy: 0.9996 - val_loss: 0.0563 - val_accuracy: 0.9859\n",
            "375/375 [==============================] - 1s 3ms/step - loss: 0.0563 - accuracy: 0.9859\n",
            "\n",
            "> 98.592\n",
            "\n",
            "#Iteration  3\n",
            "\n",
            "Epoch 1/10\n",
            "1500/1500 [==============================] - 9s 6ms/step - loss: 0.1849 - accuracy: 0.9443 - val_loss: 0.0953 - val_accuracy: 0.9702\n",
            "Epoch 2/10\n",
            "1500/1500 [==============================] - 8s 5ms/step - loss: 0.0627 - accuracy: 0.9818 - val_loss: 0.0916 - val_accuracy: 0.9697\n",
            "Epoch 3/10\n",
            "1500/1500 [==============================] - 8s 5ms/step - loss: 0.0418 - accuracy: 0.9876 - val_loss: 0.0645 - val_accuracy: 0.9798\n",
            "Epoch 4/10\n",
            "1500/1500 [==============================] - 8s 5ms/step - loss: 0.0277 - accuracy: 0.9921 - val_loss: 0.0533 - val_accuracy: 0.9837\n",
            "Epoch 5/10\n",
            "1500/1500 [==============================] - 8s 5ms/step - loss: 0.0198 - accuracy: 0.9941 - val_loss: 0.0557 - val_accuracy: 0.9833\n",
            "Epoch 6/10\n",
            "1500/1500 [==============================] - 8s 5ms/step - loss: 0.0131 - accuracy: 0.9964 - val_loss: 0.0545 - val_accuracy: 0.9845\n",
            "Epoch 7/10\n",
            "1500/1500 [==============================] - 8s 5ms/step - loss: 0.0091 - accuracy: 0.9976 - val_loss: 0.0529 - val_accuracy: 0.9852\n",
            "Epoch 8/10\n",
            "1500/1500 [==============================] - 8s 5ms/step - loss: 0.0063 - accuracy: 0.9986 - val_loss: 0.0520 - val_accuracy: 0.9856\n",
            "Epoch 9/10\n",
            "1500/1500 [==============================] - 8s 5ms/step - loss: 0.0035 - accuracy: 0.9995 - val_loss: 0.0535 - val_accuracy: 0.9859\n",
            "Epoch 10/10\n",
            "1500/1500 [==============================] - 8s 5ms/step - loss: 0.0023 - accuracy: 0.9998 - val_loss: 0.0540 - val_accuracy: 0.9859\n",
            "375/375 [==============================] - 1s 3ms/step - loss: 0.0540 - accuracy: 0.9859\n",
            "\n",
            "> 98.592\n",
            "\n",
            "#Iteration  4\n",
            "\n",
            "Epoch 1/10\n",
            "1500/1500 [==============================] - 8s 5ms/step - loss: 0.2056 - accuracy: 0.9380 - val_loss: 0.0849 - val_accuracy: 0.9728\n",
            "Epoch 2/10\n",
            "1500/1500 [==============================] - 8s 5ms/step - loss: 0.0711 - accuracy: 0.9791 - val_loss: 0.0712 - val_accuracy: 0.9781\n",
            "Epoch 3/10\n",
            "1500/1500 [==============================] - 8s 6ms/step - loss: 0.0449 - accuracy: 0.9871 - val_loss: 0.0484 - val_accuracy: 0.9848\n",
            "Epoch 4/10\n",
            "1500/1500 [==============================] - 8s 5ms/step - loss: 0.0304 - accuracy: 0.9911 - val_loss: 0.0473 - val_accuracy: 0.9837\n",
            "Epoch 5/10\n",
            "1500/1500 [==============================] - 8s 5ms/step - loss: 0.0220 - accuracy: 0.9934 - val_loss: 0.0457 - val_accuracy: 0.9854\n",
            "Epoch 6/10\n",
            "1500/1500 [==============================] - 8s 5ms/step - loss: 0.0149 - accuracy: 0.9957 - val_loss: 0.0497 - val_accuracy: 0.9855\n",
            "Epoch 7/10\n",
            "1500/1500 [==============================] - 8s 5ms/step - loss: 0.0109 - accuracy: 0.9971 - val_loss: 0.0433 - val_accuracy: 0.9869\n",
            "Epoch 8/10\n",
            "1500/1500 [==============================] - 8s 5ms/step - loss: 0.0068 - accuracy: 0.9985 - val_loss: 0.0497 - val_accuracy: 0.9850\n",
            "Epoch 9/10\n",
            "1500/1500 [==============================] - 8s 5ms/step - loss: 0.0050 - accuracy: 0.9991 - val_loss: 0.0430 - val_accuracy: 0.9874\n",
            "Epoch 10/10\n",
            "1500/1500 [==============================] - 8s 5ms/step - loss: 0.0031 - accuracy: 0.9996 - val_loss: 0.0446 - val_accuracy: 0.9880\n",
            "375/375 [==============================] - 1s 3ms/step - loss: 0.0446 - accuracy: 0.9880\n",
            "\n",
            "> 98.800\n",
            "\n",
            "#Iteration  5\n",
            "\n",
            "Epoch 1/10\n",
            "1500/1500 [==============================] - 9s 6ms/step - loss: 0.1839 - accuracy: 0.9441 - val_loss: 0.0861 - val_accuracy: 0.9752\n",
            "Epoch 2/10\n",
            "1500/1500 [==============================] - 8s 5ms/step - loss: 0.0623 - accuracy: 0.9810 - val_loss: 0.0600 - val_accuracy: 0.9820\n",
            "Epoch 3/10\n",
            "1500/1500 [==============================] - 8s 5ms/step - loss: 0.0400 - accuracy: 0.9877 - val_loss: 0.0631 - val_accuracy: 0.9815\n",
            "Epoch 4/10\n",
            "1500/1500 [==============================] - 8s 5ms/step - loss: 0.0282 - accuracy: 0.9915 - val_loss: 0.0564 - val_accuracy: 0.9838\n",
            "Epoch 5/10\n",
            "1500/1500 [==============================] - 8s 6ms/step - loss: 0.0198 - accuracy: 0.9943 - val_loss: 0.0544 - val_accuracy: 0.9842\n",
            "Epoch 6/10\n",
            "1500/1500 [==============================] - 8s 5ms/step - loss: 0.0141 - accuracy: 0.9959 - val_loss: 0.0543 - val_accuracy: 0.9843\n",
            "Epoch 7/10\n",
            "1500/1500 [==============================] - 8s 5ms/step - loss: 0.0097 - accuracy: 0.9974 - val_loss: 0.0558 - val_accuracy: 0.9858\n",
            "Epoch 8/10\n",
            "1500/1500 [==============================] - 8s 5ms/step - loss: 0.0059 - accuracy: 0.9989 - val_loss: 0.0530 - val_accuracy: 0.9874\n",
            "Epoch 9/10\n",
            "1500/1500 [==============================] - 8s 5ms/step - loss: 0.0043 - accuracy: 0.9992 - val_loss: 0.0517 - val_accuracy: 0.9877\n",
            "Epoch 10/10\n",
            "1500/1500 [==============================] - 8s 6ms/step - loss: 0.0032 - accuracy: 0.9995 - val_loss: 0.0537 - val_accuracy: 0.9878\n",
            "375/375 [==============================] - 1s 3ms/step - loss: 0.0537 - accuracy: 0.9878\n",
            "\n",
            "> 98.783\n"
          ]
        }
      ]
    },
    {
      "cell_type": "code",
      "source": [
        "performance_visualization(histories_base)"
      ],
      "metadata": {
        "colab": {
          "base_uri": "https://localhost:8080/",
          "height": 374
        },
        "id": "ragQiejYRCZ7",
        "outputId": "4fddbd0b-22d9-4dd0-a347-d36e3314692e"
      },
      "execution_count": 9,
      "outputs": [
        {
          "output_type": "stream",
          "name": "stderr",
          "text": [
            "/usr/local/lib/python3.7/dist-packages/ipykernel_launcher.py:3: MatplotlibDeprecationWarning: Adding an axes using the same arguments as a previous axes currently reuses the earlier instance.  In a future version, a new instance will always be created and returned.  Meanwhile, this warning can be suppressed, and the future behavior ensured, by passing a unique label to each axes instance.\n",
            "  This is separate from the ipykernel package so we can avoid doing imports until\n",
            "/usr/local/lib/python3.7/dist-packages/ipykernel_launcher.py:7: MatplotlibDeprecationWarning: Adding an axes using the same arguments as a previous axes currently reuses the earlier instance.  In a future version, a new instance will always be created and returned.  Meanwhile, this warning can be suppressed, and the future behavior ensured, by passing a unique label to each axes instance.\n",
            "  import sys\n"
          ]
        },
        {
          "output_type": "display_data",
          "data": {
            "image/png": "[encoded data removed]",
            "text/plain": [
              "<Figure size 432x288 with 2 Axes>"
            ]
          },
          "metadata": {
            "needs_background": "light"
          }
        }
      ]
    },
    {
      "cell_type": "code",
      "source": [
        "performance_summarization(scores_base)"
      ],
      "metadata": {
        "colab": {
          "base_uri": "https://localhost:8080/",
          "height": 283
        },
        "id": "wIAEDGSERHv1",
        "outputId": "b0e6784d-2cdf-49ce-9b9e-53674d31e4f8"
      },
      "execution_count": 10,
      "outputs": [
        {
          "output_type": "stream",
          "name": "stdout",
          "text": [
            "Accuracy: mean=98.668 std=0.101, n=5\n"
          ]
        },
        {
          "output_type": "display_data",
          "data": {
            "image/png": "[encoded data removed]",
            "text/plain": [
              "<Figure size 432x288 with 1 Axes>"
            ]
          },
          "metadata": {
            "needs_background": "light"
          }
        }
      ]
    },
    {
      "cell_type": "markdown",
      "source": [
        "# Improvised Model 1"
      ],
      "metadata": {
        "id": "uw-6lmVhSN94"
      }
    },
    {
      "cell_type": "code",
      "source": [
        "def define_model_improved_1():\n",
        "    model = Sequential()\n",
        "    model.add(Conv2D(32, (3, 3), activation='relu', kernel_initializer='he_uniform', input_shape=(28, 28, 1)))\n",
        "    model.add(BatchNormalization())\n",
        "    model.add(MaxPooling2D((2, 2)))\n",
        "    model.add(Flatten())\n",
        "    model.add(Dense(100, activation='relu', kernel_initializer='he_uniform'))\n",
        "    model.add(BatchNormalization())\n",
        "    model.add(Dense(10, activation='softmax'))\n",
        "    # compile model\n",
        "    opt = SGD(learning_rate=0.01, momentum=0.9)\n",
        "    model.compile(optimizer=opt, loss='categorical_crossentropy', metrics=['accuracy'])\n",
        "    return model"
      ],
      "metadata": {
        "id": "RUTJ6Sd5SMc_"
      },
      "execution_count": 13,
      "outputs": []
    },
    {
      "cell_type": "code",
      "source": [
        "scores_improved_1, histories_improved_1 = train_evaluate_model(trainX,trainY, define_model_improved_1)"
      ],
      "metadata": {
        "colab": {
          "base_uri": "https://localhost:8080/"
        },
        "id": "dOhbKZHMSX-L",
        "outputId": "939b044e-fc75-40e2-bde2-a29c6b8948c0"
      },
      "execution_count": 14,
      "outputs": [
        {
          "output_type": "stream",
          "name": "stdout",
          "text": [
            "\n",
            "#Iteration  1\n",
            "\n",
            "Epoch 1/10\n",
            "1500/1500 [==============================] - 10s 6ms/step - loss: 0.1396 - accuracy: 0.9575 - val_loss: 0.0916 - val_accuracy: 0.9733\n",
            "Epoch 2/10\n",
            "1500/1500 [==============================] - 10s 7ms/step - loss: 0.0538 - accuracy: 0.9841 - val_loss: 0.0580 - val_accuracy: 0.9822\n",
            "Epoch 3/10\n",
            "1500/1500 [==============================] - 9s 6ms/step - loss: 0.0341 - accuracy: 0.9898 - val_loss: 0.0539 - val_accuracy: 0.9832\n",
            "Epoch 4/10\n",
            "1500/1500 [==============================] - 9s 6ms/step - loss: 0.0220 - accuracy: 0.9934 - val_loss: 0.0557 - val_accuracy: 0.9841\n",
            "Epoch 5/10\n",
            "1500/1500 [==============================] - 9s 6ms/step - loss: 0.0166 - accuracy: 0.9951 - val_loss: 0.0567 - val_accuracy: 0.9833\n",
            "Epoch 6/10\n",
            "1500/1500 [==============================] - 10s 6ms/step - loss: 0.0113 - accuracy: 0.9967 - val_loss: 0.0514 - val_accuracy: 0.9858\n",
            "Epoch 7/10\n",
            "1500/1500 [==============================] - 9s 6ms/step - loss: 0.0078 - accuracy: 0.9981 - val_loss: 0.0514 - val_accuracy: 0.9855\n",
            "Epoch 8/10\n",
            "1500/1500 [==============================] - 9s 6ms/step - loss: 0.0065 - accuracy: 0.9983 - val_loss: 0.0488 - val_accuracy: 0.9863\n",
            "Epoch 9/10\n",
            "1500/1500 [==============================] - 9s 6ms/step - loss: 0.0052 - accuracy: 0.9989 - val_loss: 0.0520 - val_accuracy: 0.9862\n",
            "Epoch 10/10\n",
            "1500/1500 [==============================] - 9s 6ms/step - loss: 0.0034 - accuracy: 0.9994 - val_loss: 0.0527 - val_accuracy: 0.9858\n",
            "375/375 [==============================] - 1s 3ms/step - loss: 0.0527 - accuracy: 0.9858\n",
            "\n",
            "> 98.575\n",
            "\n",
            "#Iteration  2\n",
            "\n",
            "Epoch 1/10\n",
            "1500/1500 [==============================] - 10s 6ms/step - loss: 0.1279 - accuracy: 0.9616 - val_loss: 0.0659 - val_accuracy: 0.9808\n",
            "Epoch 2/10\n",
            "1500/1500 [==============================] - 9s 6ms/step - loss: 0.0487 - accuracy: 0.9855 - val_loss: 0.0623 - val_accuracy: 0.9803\n",
            "Epoch 3/10\n",
            "1500/1500 [==============================] - 9s 6ms/step - loss: 0.0313 - accuracy: 0.9907 - val_loss: 0.0523 - val_accuracy: 0.9822\n",
            "Epoch 4/10\n",
            "1500/1500 [==============================] - 10s 6ms/step - loss: 0.0204 - accuracy: 0.9940 - val_loss: 0.0540 - val_accuracy: 0.9837\n",
            "Epoch 5/10\n",
            "1500/1500 [==============================] - 9s 6ms/step - loss: 0.0132 - accuracy: 0.9964 - val_loss: 0.0570 - val_accuracy: 0.9833\n",
            "Epoch 6/10\n",
            "1500/1500 [==============================] - 9s 6ms/step - loss: 0.0100 - accuracy: 0.9972 - val_loss: 0.0537 - val_accuracy: 0.9848\n",
            "Epoch 7/10\n",
            "1500/1500 [==============================] - 9s 6ms/step - loss: 0.0061 - accuracy: 0.9986 - val_loss: 0.0556 - val_accuracy: 0.9859\n",
            "Epoch 8/10\n",
            "1500/1500 [==============================] - 9s 6ms/step - loss: 0.0050 - accuracy: 0.9989 - val_loss: 0.0548 - val_accuracy: 0.9856\n",
            "Epoch 9/10\n",
            "1500/1500 [==============================] - 9s 6ms/step - loss: 0.0054 - accuracy: 0.9986 - val_loss: 0.0542 - val_accuracy: 0.9864\n",
            "Epoch 10/10\n",
            "1500/1500 [==============================] - 9s 6ms/step - loss: 0.0033 - accuracy: 0.9995 - val_loss: 0.0505 - val_accuracy: 0.9873\n",
            "375/375 [==============================] - 1s 3ms/step - loss: 0.0505 - accuracy: 0.9873\n",
            "\n",
            "> 98.733\n",
            "\n",
            "#Iteration  3\n",
            "\n",
            "Epoch 1/10\n",
            "1500/1500 [==============================] - 10s 6ms/step - loss: 0.1317 - accuracy: 0.9600 - val_loss: 0.0676 - val_accuracy: 0.9789\n",
            "Epoch 2/10\n",
            "1500/1500 [==============================] - 9s 6ms/step - loss: 0.0496 - accuracy: 0.9847 - val_loss: 0.0516 - val_accuracy: 0.9843\n",
            "Epoch 3/10\n",
            "1500/1500 [==============================] - 9s 6ms/step - loss: 0.0290 - accuracy: 0.9918 - val_loss: 0.0513 - val_accuracy: 0.9844\n",
            "Epoch 4/10\n",
            "1500/1500 [==============================] - 9s 6ms/step - loss: 0.0193 - accuracy: 0.9944 - val_loss: 0.0521 - val_accuracy: 0.9852\n",
            "Epoch 5/10\n",
            "1500/1500 [==============================] - 9s 6ms/step - loss: 0.0131 - accuracy: 0.9962 - val_loss: 0.0486 - val_accuracy: 0.9853\n",
            "Epoch 6/10\n",
            "1500/1500 [==============================] - 9s 6ms/step - loss: 0.0090 - accuracy: 0.9976 - val_loss: 0.0485 - val_accuracy: 0.9856\n",
            "Epoch 7/10\n",
            "1500/1500 [==============================] - 9s 6ms/step - loss: 0.0078 - accuracy: 0.9979 - val_loss: 0.0467 - val_accuracy: 0.9862\n",
            "Epoch 8/10\n",
            "1500/1500 [==============================] - 10s 6ms/step - loss: 0.0062 - accuracy: 0.9984 - val_loss: 0.0503 - val_accuracy: 0.9862\n",
            "Epoch 9/10\n",
            "1500/1500 [==============================] - 9s 6ms/step - loss: 0.0053 - accuracy: 0.9988 - val_loss: 0.0513 - val_accuracy: 0.9860\n",
            "Epoch 10/10\n",
            "1500/1500 [==============================] - 9s 6ms/step - loss: 0.0038 - accuracy: 0.9992 - val_loss: 0.0461 - val_accuracy: 0.9865\n",
            "375/375 [==============================] - 1s 3ms/step - loss: 0.0461 - accuracy: 0.9865\n",
            "\n",
            "> 98.650\n",
            "\n",
            "#Iteration  4\n",
            "\n",
            "Epoch 1/10\n",
            "1500/1500 [==============================] - 10s 6ms/step - loss: 0.1369 - accuracy: 0.9583 - val_loss: 0.0540 - val_accuracy: 0.9832\n",
            "Epoch 2/10\n",
            "1500/1500 [==============================] - 9s 6ms/step - loss: 0.0514 - accuracy: 0.9841 - val_loss: 0.0519 - val_accuracy: 0.9827\n",
            "Epoch 3/10\n",
            "1500/1500 [==============================] - 9s 6ms/step - loss: 0.0312 - accuracy: 0.9906 - val_loss: 0.0488 - val_accuracy: 0.9851\n",
            "Epoch 4/10\n",
            "1500/1500 [==============================] - 9s 6ms/step - loss: 0.0219 - accuracy: 0.9938 - val_loss: 0.0409 - val_accuracy: 0.9868\n",
            "Epoch 5/10\n",
            "1500/1500 [==============================] - 9s 6ms/step - loss: 0.0147 - accuracy: 0.9960 - val_loss: 0.0423 - val_accuracy: 0.9868\n",
            "Epoch 6/10\n",
            "1500/1500 [==============================] - 9s 6ms/step - loss: 0.0110 - accuracy: 0.9971 - val_loss: 0.0507 - val_accuracy: 0.9852\n",
            "Epoch 7/10\n",
            "1500/1500 [==============================] - 9s 6ms/step - loss: 0.0083 - accuracy: 0.9976 - val_loss: 0.0392 - val_accuracy: 0.9886\n",
            "Epoch 8/10\n",
            "1500/1500 [==============================] - 9s 6ms/step - loss: 0.0056 - accuracy: 0.9990 - val_loss: 0.0448 - val_accuracy: 0.9883\n",
            "Epoch 9/10\n",
            "1500/1500 [==============================] - 9s 6ms/step - loss: 0.0050 - accuracy: 0.9985 - val_loss: 0.0464 - val_accuracy: 0.9865\n",
            "Epoch 10/10\n",
            "1500/1500 [==============================] - 9s 6ms/step - loss: 0.0047 - accuracy: 0.9988 - val_loss: 0.0439 - val_accuracy: 0.9872\n",
            "375/375 [==============================] - 1s 3ms/step - loss: 0.0439 - accuracy: 0.9872\n",
            "\n",
            "> 98.725\n",
            "\n",
            "#Iteration  5\n",
            "\n",
            "Epoch 1/10\n",
            "1500/1500 [==============================] - 10s 6ms/step - loss: 0.1331 - accuracy: 0.9596 - val_loss: 0.0707 - val_accuracy: 0.9797\n",
            "Epoch 2/10\n",
            "1500/1500 [==============================] - 9s 6ms/step - loss: 0.0506 - accuracy: 0.9845 - val_loss: 0.0516 - val_accuracy: 0.9844\n",
            "Epoch 3/10\n",
            "1500/1500 [==============================] - 9s 6ms/step - loss: 0.0311 - accuracy: 0.9908 - val_loss: 0.0512 - val_accuracy: 0.9857\n",
            "Epoch 4/10\n",
            "1500/1500 [==============================] - 9s 6ms/step - loss: 0.0212 - accuracy: 0.9937 - val_loss: 0.0491 - val_accuracy: 0.9850\n",
            "Epoch 5/10\n",
            "1500/1500 [==============================] - 9s 6ms/step - loss: 0.0147 - accuracy: 0.9958 - val_loss: 0.0487 - val_accuracy: 0.9865\n",
            "Epoch 6/10\n",
            "1500/1500 [==============================] - 9s 6ms/step - loss: 0.0097 - accuracy: 0.9974 - val_loss: 0.0477 - val_accuracy: 0.9868\n",
            "Epoch 7/10\n",
            "1500/1500 [==============================] - 10s 6ms/step - loss: 0.0065 - accuracy: 0.9983 - val_loss: 0.0446 - val_accuracy: 0.9879\n",
            "Epoch 8/10\n",
            "1500/1500 [==============================] - 9s 6ms/step - loss: 0.0056 - accuracy: 0.9988 - val_loss: 0.0488 - val_accuracy: 0.9868\n",
            "Epoch 9/10\n",
            "1500/1500 [==============================] - 10s 6ms/step - loss: 0.0043 - accuracy: 0.9990 - val_loss: 0.0465 - val_accuracy: 0.9885\n",
            "Epoch 10/10\n",
            "1500/1500 [==============================] - 9s 6ms/step - loss: 0.0039 - accuracy: 0.9989 - val_loss: 0.0504 - val_accuracy: 0.9877\n",
            "375/375 [==============================] - 1s 3ms/step - loss: 0.0504 - accuracy: 0.9877\n",
            "\n",
            "> 98.767\n"
          ]
        }
      ]
    },
    {
      "cell_type": "code",
      "source": [
        "performance_visualization(histories_improved_1)"
      ],
      "metadata": {
        "colab": {
          "base_uri": "https://localhost:8080/",
          "height": 374
        },
        "id": "xwyhgzWsSkdo",
        "outputId": "50c4a40b-65c0-480e-dacf-b54ec06b06f0"
      },
      "execution_count": 15,
      "outputs": [
        {
          "output_type": "stream",
          "name": "stderr",
          "text": [
            "/usr/local/lib/python3.7/dist-packages/ipykernel_launcher.py:3: MatplotlibDeprecationWarning: Adding an axes using the same arguments as a previous axes currently reuses the earlier instance.  In a future version, a new instance will always be created and returned.  Meanwhile, this warning can be suppressed, and the future behavior ensured, by passing a unique label to each axes instance.\n",
            "  This is separate from the ipykernel package so we can avoid doing imports until\n",
            "/usr/local/lib/python3.7/dist-packages/ipykernel_launcher.py:7: MatplotlibDeprecationWarning: Adding an axes using the same arguments as a previous axes currently reuses the earlier instance.  In a future version, a new instance will always be created and returned.  Meanwhile, this warning can be suppressed, and the future behavior ensured, by passing a unique label to each axes instance.\n",
            "  import sys\n"
          ]
        },
        {
          "output_type": "display_data",
          "data": {
            "image/png": "[encoded data removed]",
            "text/plain": [
              "<Figure size 432x288 with 2 Axes>"
            ]
          },
          "metadata": {
            "needs_background": "light"
          }
        }
      ]
    },
    {
      "cell_type": "code",
      "source": [
        "performance_summarization(scores_improved_1)"
      ],
      "metadata": {
        "colab": {
          "base_uri": "https://localhost:8080/",
          "height": 286
        },
        "id": "m240iA8xSqaH",
        "outputId": "e231e5fb-0ccd-4a71-b834-a725bbcf1a76"
      },
      "execution_count": 16,
      "outputs": [
        {
          "output_type": "stream",
          "name": "stdout",
          "text": [
            "Accuracy: mean=98.690 std=0.069, n=5\n"
          ]
        },
        {
          "output_type": "display_data",
          "data": {
            "image/png": "[encoded data removed]",
            "text/plain": [
              "<Figure size 432x288 with 1 Axes>"
            ]
          },
          "metadata": {
            "needs_background": "light"
          }
        }
      ]
    },
    {
      "cell_type": "markdown",
      "source": [
        "# Improvised Model 2"
      ],
      "metadata": {
        "id": "bOEue29hTmvs"
      }
    },
    {
      "cell_type": "code",
      "source": [
        "def define_model_improved_2():\n",
        "    model = Sequential()\n",
        "    model.add(Conv2D(32,(3,3), padding='same', activation='relu', kernel_initializer='he_uniform', input_shape=(28,28,1)))\n",
        "    model.add(MaxPooling2D((2,2)))\n",
        "    model.add(Conv2D(128, (3,3), padding='same', activation='relu', kernel_initializer='he_uniform'))\n",
        "    model.add(Conv2D(128, (3,3), padding='same', activation='relu', kernel_initializer='he_uniform'))\n",
        "    model.add(MaxPooling2D((2,2)))\n",
        "    model.add(BatchNormalization())\n",
        "    model.add(Flatten())\n",
        "    model.add(Dense(100, activation='relu', kernel_initializer='he_uniform'))\n",
        "    model.add(Dense(10, activation='softmax'))\n",
        "    opt = SGD(learning_rate=0.01, momentum=0.9)\n",
        "    model.compile(optimizer=opt, loss='categorical_crossentropy', metrics=['accuracy'])\n",
        "    return model"
      ],
      "metadata": {
        "id": "lsm0vq55Tmvt"
      },
      "execution_count": 17,
      "outputs": []
    },
    {
      "cell_type": "code",
      "source": [
        "scores_improved_2, histories_improved_2 = train_evaluate_model(trainX,trainY, define_model_improved_2)"
      ],
      "metadata": {
        "colab": {
          "base_uri": "https://localhost:8080/"
        },
        "id": "e-XFupzGTmvu",
        "outputId": "edc32854-9040-45e5-f7f0-15707fb52765"
      },
      "execution_count": 18,
      "outputs": [
        {
          "output_type": "stream",
          "name": "stdout",
          "text": [
            "\n",
            "#Iteration  1\n",
            "\n",
            "Epoch 1/10\n",
            "1500/1500 [==============================] - 25s 16ms/step - loss: 0.1197 - accuracy: 0.9641 - val_loss: 0.0846 - val_accuracy: 0.9730\n",
            "Epoch 2/10\n",
            "1500/1500 [==============================] - 23s 15ms/step - loss: 0.0419 - accuracy: 0.9872 - val_loss: 0.0477 - val_accuracy: 0.9868\n",
            "Epoch 3/10\n",
            "1500/1500 [==============================] - 23s 15ms/step - loss: 0.0216 - accuracy: 0.9929 - val_loss: 0.0712 - val_accuracy: 0.9815\n",
            "Epoch 4/10\n",
            "1500/1500 [==============================] - 23s 15ms/step - loss: 0.0123 - accuracy: 0.9958 - val_loss: 0.0487 - val_accuracy: 0.9879\n",
            "Epoch 5/10\n",
            "1500/1500 [==============================] - 23s 15ms/step - loss: 0.0087 - accuracy: 0.9971 - val_loss: 0.0566 - val_accuracy: 0.9855\n",
            "Epoch 6/10\n",
            "1500/1500 [==============================] - 22s 14ms/step - loss: 0.0042 - accuracy: 0.9985 - val_loss: 0.0413 - val_accuracy: 0.9907\n",
            "Epoch 7/10\n",
            "1500/1500 [==============================] - 22s 14ms/step - loss: 0.0013 - accuracy: 0.9996 - val_loss: 0.0418 - val_accuracy: 0.9909\n",
            "Epoch 8/10\n",
            "1500/1500 [==============================] - 22s 14ms/step - loss: 8.8233e-04 - accuracy: 0.9997 - val_loss: 0.0434 - val_accuracy: 0.9902\n",
            "Epoch 9/10\n",
            "1500/1500 [==============================] - 23s 15ms/step - loss: 2.0498e-04 - accuracy: 1.0000 - val_loss: 0.0415 - val_accuracy: 0.9915\n",
            "Epoch 10/10\n",
            "1500/1500 [==============================] - 22s 14ms/step - loss: 1.1311e-04 - accuracy: 1.0000 - val_loss: 0.0420 - val_accuracy: 0.9916\n",
            "375/375 [==============================] - 2s 5ms/step - loss: 0.0420 - accuracy: 0.9916\n",
            "\n",
            "> 99.158\n",
            "\n",
            "#Iteration  2\n",
            "\n",
            "Epoch 1/10\n",
            "1500/1500 [==============================] - 24s 15ms/step - loss: 0.1208 - accuracy: 0.9628 - val_loss: 0.0654 - val_accuracy: 0.9777\n",
            "Epoch 2/10\n",
            "1500/1500 [==============================] - 23s 15ms/step - loss: 0.0425 - accuracy: 0.9868 - val_loss: 0.0535 - val_accuracy: 0.9834\n",
            "Epoch 3/10\n",
            "1500/1500 [==============================] - 22s 14ms/step - loss: 0.0246 - accuracy: 0.9919 - val_loss: 0.0410 - val_accuracy: 0.9892\n",
            "Epoch 4/10\n",
            "1500/1500 [==============================] - 22s 14ms/step - loss: 0.0169 - accuracy: 0.9944 - val_loss: 0.0476 - val_accuracy: 0.9874\n",
            "Epoch 5/10\n",
            "1500/1500 [==============================] - 22s 15ms/step - loss: 0.0093 - accuracy: 0.9975 - val_loss: 0.0315 - val_accuracy: 0.9914\n",
            "Epoch 6/10\n",
            "1500/1500 [==============================] - 22s 15ms/step - loss: 0.0061 - accuracy: 0.9980 - val_loss: 0.0425 - val_accuracy: 0.9890\n",
            "Epoch 7/10\n",
            "1500/1500 [==============================] - 23s 15ms/step - loss: 0.0031 - accuracy: 0.9992 - val_loss: 0.0349 - val_accuracy: 0.9911\n",
            "Epoch 8/10\n",
            "1500/1500 [==============================] - 23s 15ms/step - loss: 9.9091e-04 - accuracy: 0.9998 - val_loss: 0.0347 - val_accuracy: 0.9922\n",
            "Epoch 9/10\n",
            "1500/1500 [==============================] - 22s 15ms/step - loss: 4.1159e-04 - accuracy: 1.0000 - val_loss: 0.0308 - val_accuracy: 0.9927\n",
            "Epoch 10/10\n",
            "1500/1500 [==============================] - 22s 15ms/step - loss: 1.6417e-04 - accuracy: 1.0000 - val_loss: 0.0320 - val_accuracy: 0.9925\n",
            "375/375 [==============================] - 2s 5ms/step - loss: 0.0320 - accuracy: 0.9925\n",
            "\n",
            "> 99.250\n",
            "\n",
            "#Iteration  3\n",
            "\n",
            "Epoch 1/10\n",
            "1500/1500 [==============================] - 23s 15ms/step - loss: 0.1143 - accuracy: 0.9651 - val_loss: 0.0617 - val_accuracy: 0.9814\n",
            "Epoch 2/10\n",
            "1500/1500 [==============================] - 22s 15ms/step - loss: 0.0352 - accuracy: 0.9896 - val_loss: 0.1030 - val_accuracy: 0.9714\n",
            "Epoch 3/10\n",
            "1500/1500 [==============================] - 22s 14ms/step - loss: 0.0202 - accuracy: 0.9936 - val_loss: 0.0489 - val_accuracy: 0.9858\n",
            "Epoch 4/10\n",
            "1500/1500 [==============================] - 22s 15ms/step - loss: 0.0108 - accuracy: 0.9962 - val_loss: 0.0412 - val_accuracy: 0.9903\n",
            "Epoch 5/10\n",
            "1500/1500 [==============================] - 23s 15ms/step - loss: 0.0095 - accuracy: 0.9970 - val_loss: 0.0465 - val_accuracy: 0.9893\n",
            "Epoch 6/10\n",
            "1500/1500 [==============================] - 23s 15ms/step - loss: 0.0030 - accuracy: 0.9992 - val_loss: 0.0414 - val_accuracy: 0.9910\n",
            "Epoch 7/10\n",
            "1500/1500 [==============================] - 22s 14ms/step - loss: 0.0010 - accuracy: 0.9997 - val_loss: 0.0411 - val_accuracy: 0.9911\n",
            "Epoch 8/10\n",
            "1500/1500 [==============================] - 23s 15ms/step - loss: 4.6139e-04 - accuracy: 1.0000 - val_loss: 0.0406 - val_accuracy: 0.9915\n",
            "Epoch 9/10\n",
            "1500/1500 [==============================] - 22s 15ms/step - loss: 2.6936e-04 - accuracy: 0.9999 - val_loss: 0.0415 - val_accuracy: 0.9914\n",
            "Epoch 10/10\n",
            "1500/1500 [==============================] - 23s 15ms/step - loss: 1.0298e-04 - accuracy: 1.0000 - val_loss: 0.0408 - val_accuracy: 0.9915\n",
            "375/375 [==============================] - 2s 5ms/step - loss: 0.0408 - accuracy: 0.9915\n",
            "\n",
            "> 99.150\n",
            "\n",
            "#Iteration  4\n",
            "\n",
            "Epoch 1/10\n",
            "1500/1500 [==============================] - 22s 15ms/step - loss: 0.1152 - accuracy: 0.9656 - val_loss: 0.0637 - val_accuracy: 0.9807\n",
            "Epoch 2/10\n",
            "1500/1500 [==============================] - 22s 14ms/step - loss: 0.0414 - accuracy: 0.9873 - val_loss: 0.0379 - val_accuracy: 0.9891\n",
            "Epoch 3/10\n",
            "1500/1500 [==============================] - 23s 15ms/step - loss: 0.0199 - accuracy: 0.9935 - val_loss: 0.0357 - val_accuracy: 0.9893\n",
            "Epoch 4/10\n",
            "1500/1500 [==============================] - 23s 15ms/step - loss: 0.0148 - accuracy: 0.9956 - val_loss: 0.0323 - val_accuracy: 0.9909\n",
            "Epoch 5/10\n",
            "1500/1500 [==============================] - 23s 15ms/step - loss: 0.0070 - accuracy: 0.9979 - val_loss: 0.0342 - val_accuracy: 0.9914\n",
            "Epoch 6/10\n",
            "1500/1500 [==============================] - 23s 15ms/step - loss: 0.0038 - accuracy: 0.9989 - val_loss: 0.0310 - val_accuracy: 0.9923\n",
            "Epoch 7/10\n",
            "1500/1500 [==============================] - 23s 15ms/step - loss: 0.0014 - accuracy: 0.9996 - val_loss: 0.0319 - val_accuracy: 0.9924\n",
            "Epoch 8/10\n",
            "1500/1500 [==============================] - 23s 15ms/step - loss: 4.3416e-04 - accuracy: 0.9999 - val_loss: 0.0281 - val_accuracy: 0.9939\n",
            "Epoch 9/10\n",
            "1500/1500 [==============================] - 22s 15ms/step - loss: 1.7637e-04 - accuracy: 1.0000 - val_loss: 0.0286 - val_accuracy: 0.9940\n",
            "Epoch 10/10\n",
            "1500/1500 [==============================] - 23s 15ms/step - loss: 9.2898e-05 - accuracy: 1.0000 - val_loss: 0.0288 - val_accuracy: 0.9942\n",
            "375/375 [==============================] - 2s 5ms/step - loss: 0.0288 - accuracy: 0.9942\n",
            "\n",
            "> 99.417\n",
            "\n",
            "#Iteration  5\n",
            "\n",
            "Epoch 1/10\n",
            "1500/1500 [==============================] - 23s 15ms/step - loss: 0.1238 - accuracy: 0.9629 - val_loss: 0.0811 - val_accuracy: 0.9774\n",
            "Epoch 2/10\n",
            "1500/1500 [==============================] - 23s 15ms/step - loss: 0.0446 - accuracy: 0.9860 - val_loss: 0.0832 - val_accuracy: 0.9747\n",
            "Epoch 3/10\n",
            "1500/1500 [==============================] - 23s 15ms/step - loss: 0.0259 - accuracy: 0.9915 - val_loss: 0.0509 - val_accuracy: 0.9855\n",
            "Epoch 4/10\n",
            "1500/1500 [==============================] - 23s 15ms/step - loss: 0.0146 - accuracy: 0.9954 - val_loss: 0.0365 - val_accuracy: 0.9897\n",
            "Epoch 5/10\n",
            "1500/1500 [==============================] - 23s 15ms/step - loss: 0.0084 - accuracy: 0.9974 - val_loss: 0.0442 - val_accuracy: 0.9892\n",
            "Epoch 6/10\n",
            "1500/1500 [==============================] - 23s 15ms/step - loss: 0.0066 - accuracy: 0.9978 - val_loss: 0.0439 - val_accuracy: 0.9891\n",
            "Epoch 7/10\n",
            "1500/1500 [==============================] - 23s 15ms/step - loss: 0.0038 - accuracy: 0.9987 - val_loss: 0.0402 - val_accuracy: 0.9901\n",
            "Epoch 8/10\n",
            "1500/1500 [==============================] - 22s 15ms/step - loss: 0.0011 - accuracy: 0.9997 - val_loss: 0.0365 - val_accuracy: 0.9920\n",
            "Epoch 9/10\n",
            "1500/1500 [==============================] - 23s 15ms/step - loss: 4.1720e-04 - accuracy: 1.0000 - val_loss: 0.0359 - val_accuracy: 0.9919\n",
            "Epoch 10/10\n",
            "1500/1500 [==============================] - 22s 15ms/step - loss: 1.7173e-04 - accuracy: 1.0000 - val_loss: 0.0358 - val_accuracy: 0.9927\n",
            "375/375 [==============================] - 2s 5ms/step - loss: 0.0358 - accuracy: 0.9927\n",
            "\n",
            "> 99.267\n"
          ]
        }
      ]
    },
    {
      "cell_type": "code",
      "source": [
        "performance_visualization(histories_improved_1)"
      ],
      "metadata": {
        "colab": {
          "base_uri": "https://localhost:8080/",
          "height": 374
        },
        "id": "aVdsAeFcTmvv",
        "outputId": "009904d4-3147-461e-9aaf-74a3e25c8277"
      },
      "execution_count": 19,
      "outputs": [
        {
          "output_type": "stream",
          "name": "stderr",
          "text": [
            "/usr/local/lib/python3.7/dist-packages/ipykernel_launcher.py:3: MatplotlibDeprecationWarning: Adding an axes using the same arguments as a previous axes currently reuses the earlier instance.  In a future version, a new instance will always be created and returned.  Meanwhile, this warning can be suppressed, and the future behavior ensured, by passing a unique label to each axes instance.\n",
            "  This is separate from the ipykernel package so we can avoid doing imports until\n",
            "/usr/local/lib/python3.7/dist-packages/ipykernel_launcher.py:7: MatplotlibDeprecationWarning: Adding an axes using the same arguments as a previous axes currently reuses the earlier instance.  In a future version, a new instance will always be created and returned.  Meanwhile, this warning can be suppressed, and the future behavior ensured, by passing a unique label to each axes instance.\n",
            "  import sys\n"
          ]
        },
        {
          "output_type": "display_data",
          "data": {
            "image/png": "[encoded data removed]",
            "text/plain": [
              "<Figure size 432x288 with 2 Axes>"
            ]
          },
          "metadata": {
            "needs_background": "light"
          }
        }
      ]
    },
    {
      "cell_type": "code",
      "source": [
        "performance_summarization(scores_improved_1)"
      ],
      "metadata": {
        "colab": {
          "base_uri": "https://localhost:8080/",
          "height": 286
        },
        "id": "9N7e1Uw6Tmvw",
        "outputId": "2579d8bc-35c0-4428-849d-93c7d138ff41"
      },
      "execution_count": 20,
      "outputs": [
        {
          "output_type": "stream",
          "name": "stdout",
          "text": [
            "Accuracy: mean=98.690 std=0.069, n=5\n"
          ]
        },
        {
          "output_type": "display_data",
          "data": {
            "image/png": "[encoded data removed]",
            "text/plain": [
              "<Figure size 432x288 with 1 Axes>"
            ]
          },
          "metadata": {
            "needs_background": "light"
          }
        }
      ]
    },
    {
      "cell_type": "markdown",
      "source": [
        "# Using the best model from the above three models"
      ],
      "metadata": {
        "id": "Pc0Aj11cUGD1"
      }
    },
    {
      "cell_type": "code",
      "source": [
        "model = define_model_improved_2()"
      ],
      "metadata": {
        "id": "-QmeC47qUFZB"
      },
      "execution_count": 21,
      "outputs": []
    },
    {
      "cell_type": "code",
      "source": [
        "model.fit(trainX,trainY,epochs=10, batch_size=32)"
      ],
      "metadata": {
        "colab": {
          "base_uri": "https://localhost:8080/"
        },
        "id": "z0EPi3rLUFb8",
        "outputId": "5c056d1e-2bcd-443e-ee84-8e51f6f25fc5"
      },
      "execution_count": 22,
      "outputs": [
        {
          "output_type": "stream",
          "name": "stdout",
          "text": [
            "Epoch 1/10\n",
            "1875/1875 [==============================] - 31s 16ms/step - loss: 0.1120 - accuracy: 0.9666\n",
            "Epoch 2/10\n",
            "1875/1875 [==============================] - 26s 14ms/step - loss: 0.0397 - accuracy: 0.9879\n",
            "Epoch 3/10\n",
            "1875/1875 [==============================] - 25s 13ms/step - loss: 0.0231 - accuracy: 0.9929\n",
            "Epoch 4/10\n",
            "1875/1875 [==============================] - 25s 13ms/step - loss: 0.0147 - accuracy: 0.9949\n",
            "Epoch 5/10\n",
            "1875/1875 [==============================] - 27s 14ms/step - loss: 0.0108 - accuracy: 0.9962\n",
            "Epoch 6/10\n",
            "1875/1875 [==============================] - 25s 13ms/step - loss: 0.0065 - accuracy: 0.9978\n",
            "Epoch 7/10\n",
            "1875/1875 [==============================] - 25s 13ms/step - loss: 0.0044 - accuracy: 0.9985\n",
            "Epoch 8/10\n",
            "1875/1875 [==============================] - 25s 14ms/step - loss: 0.0024 - accuracy: 0.9991\n",
            "Epoch 9/10\n",
            "1875/1875 [==============================] - 25s 13ms/step - loss: 0.0016 - accuracy: 0.9996\n",
            "Epoch 10/10\n",
            "1875/1875 [==============================] - 25s 14ms/step - loss: 4.1240e-04 - accuracy: 0.9999\n"
          ]
        },
        {
          "output_type": "execute_result",
          "data": {
            "text/plain": [
              "<keras.callbacks.History at 0x7f394c442450>"
            ]
          },
          "metadata": {},
          "execution_count": 22
        }
      ]
    },
    {
      "cell_type": "code",
      "source": [
        "_,acc = model.evaluate(testX, testY)"
      ],
      "metadata": {
        "colab": {
          "base_uri": "https://localhost:8080/"
        },
        "id": "gNWJYC4wUbq2",
        "outputId": "4dff8085-426e-467d-f5d9-40bec3887dcd"
      },
      "execution_count": 23,
      "outputs": [
        {
          "output_type": "stream",
          "name": "stdout",
          "text": [
            "313/313 [==============================] - 2s 6ms/step - loss: 0.0245 - accuracy: 0.9943\n"
          ]
        }
      ]
    },
    {
      "cell_type": "code",
      "source": [
        "print(\"> %.3f\" % (acc*100.0))"
      ],
      "metadata": {
        "colab": {
          "base_uri": "https://localhost:8080/"
        },
        "id": "zEAWbYpeUdZC",
        "outputId": "add3e5dd-6fc4-472f-ffc0-eb7eb35ce7a1"
      },
      "execution_count": 24,
      "outputs": [
        {
          "output_type": "stream",
          "name": "stdout",
          "text": [
            "> 99.430\n"
          ]
        }
      ]
    },
    {
      "cell_type": "code",
      "source": [
        ""
      ],
      "metadata": {
        "id": "2Xorbk4Doy-H"
      },
      "execution_count": null,
      "outputs": []
    }
  ]
}